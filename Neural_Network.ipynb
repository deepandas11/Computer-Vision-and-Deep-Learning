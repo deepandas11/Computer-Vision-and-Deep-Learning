{
 "cells": [
  {
   "cell_type": "markdown",
   "metadata": {},
   "source": [
    "# Neural Network\n",
    "\n",
    "\n",
    "The structure that is implemented is as follows: \n",
    "We will use hand written digit images from 10 classes.\n",
    "The network has 2 hidden layers. First one has 200 hiddent units \n",
    "Second one has 100 hidden units\n",
    "\n",
    "<img src = \"nn.png\">\n",
    "\n",
    "#### 1. Loading Libraries"
   ]
  },
  {
   "cell_type": "code",
   "execution_count": 2,
   "metadata": {},
   "outputs": [],
   "source": [
    "import tensorflow as tf\n",
    "import numpy as np\n",
    "import matplotlib.pyplot as plt"
   ]
  },
  {
   "attachments": {},
   "cell_type": "markdown",
   "metadata": {},
   "source": [
    "#### 2. Load MNIST Data\n",
    "\n",
    "55000 examples for training, 5000 examples for validation and 10000 examples for testing. The digits are size normalized and centeres in a fixed size image with values from 0 to 1. Flattening is done to a 1x784 feature vector for each image. \n",
    "\n",
    "The data dimensions need to be specified. Number of classes as mentioned: 10.\n",
    "\n",
    "\n",
    "##### 2.1 Helper Functions\n",
    "\n",
    "Here, we'll simply write a function (load_data) which has two modes: train (which loads the training and validation images and their corresponding labels) and test (which loads the test images and their corresponding labels). You can replace this function to use your own dataset.\n",
    "\n",
    "Other than a function for loading the images and corresponding labels, we define two more functions:\n",
    "\n",
    " - **randomize**: which randomizes the order of images and their labels. This is important to make sure that the input images are sorted in a completely random order. Moreover, at the beginning of each epoch, we will re-randomize the order of data samples to make sure that the trained model is not sensitive to the order of data.\n",
    "\n",
    " - **get_next_batch**: which only selects a few number of images determined by the batch_size variable (if you don't know why, read about Stochastic Gradient Method)"
   ]
  },
  {
   "cell_type": "code",
   "execution_count": 32,
   "metadata": {},
   "outputs": [],
   "source": [
    "img_h = img_w = 28\n",
    "img_size_flat = img_h * img_w\n",
    "n_classes = 10\n",
    "tf.reset_default_graph()"
   ]
  },
  {
   "cell_type": "code",
   "execution_count": 44,
   "metadata": {},
   "outputs": [],
   "source": [
    "def load_data(mode = 'train'):\n",
    "    \"\"\"\n",
    "    Function to (download and) load the MNIST data\n",
    "    :param mode: train or test\n",
    "    :return: images and the corresponding labels\n",
    "    \"\"\"\n",
    "    from tensorflow.examples.tutorials.mnist import input_data\n",
    "    mnist = input_data.read_data_sets(\"MNIST_data/\", one_hot=True)\n",
    "    if mode == 'train':\n",
    "        x_train, y_train, x_valid, y_valid = mnist.train.images, mnist.train.labels, \\\n",
    "                                             mnist.validation.images, mnist.validation.labels\n",
    "        return x_train, y_train, x_valid, y_valid\n",
    "    elif mode == 'test':\n",
    "        x_test, y_test = mnist.test.images, mnist.test.labels\n",
    "    return x_test, y_test\n",
    "\n",
    "\n",
    "def randomize(x,y):\n",
    "     \"\"\"   \n",
    "     Randomizes the order of data samples and their corresponding labels\n",
    "     \"\"\"\n",
    "     perm = np.random.permutation(y.shape[0])\n",
    "     shuffled_x = x[perm, :]\n",
    "     shuffled_y = y[perm]\n",
    "     return shuffled_x, shuffled_y\n",
    "\n",
    "\n",
    "def get_next_batch(x,y,start,end):\n",
    "    x_batch = x[start:end]\n",
    "    y_batch = y[start:end]\n",
    "    return x_batch, y_batch"
   ]
  },
  {
   "cell_type": "code",
   "execution_count": 34,
   "metadata": {},
   "outputs": [
    {
     "name": "stdout",
     "output_type": "stream",
     "text": [
      "Extracting MNIST_data/train-images-idx3-ubyte.gz\n",
      "Extracting MNIST_data/train-labels-idx1-ubyte.gz\n",
      "Extracting MNIST_data/t10k-images-idx3-ubyte.gz\n",
      "Extracting MNIST_data/t10k-labels-idx1-ubyte.gz\n",
      "x_train :\t(55000, 784)\n",
      "y_train :\t(55000, 10)\n",
      "x_valid :\t(5000, 784)\n",
      "y_valid :\t(5000, 10)\n"
     ]
    }
   ],
   "source": [
    "# Load MNIST data\n",
    "x_train, y_train, x_valid, y_valid = load_data(mode='train')\n",
    "print('x_train :\\t{}'.format(x_train.shape))\n",
    "print('y_train :\\t{}'.format(y_train.shape))\n",
    "print('x_valid :\\t{}'.format(x_valid.shape))\n",
    "print('y_valid :\\t{}'.format(y_valid.shape))"
   ]
  },
  {
   "cell_type": "markdown",
   "metadata": {},
   "source": [
    "#### 3. Hyperparameters\n",
    "\n",
    "We will be using **Stochastic Gradient Descent** that uses a small batch of images in each iteration of the optimizer. Some of the relevant terms are:\n",
    "\n",
    "- **epoch**: One forward pass and one backward pass of all the training examples\n",
    "- **Batch size**: Number of training examples in one epoch\n",
    "- **Iteration**: One forward pass and one backward pass of one batch of images\n",
    "\n",
    "Therefore, Number of iterations in an epoch = 55000/100 = 550"
   ]
  },
  {
   "cell_type": "code",
   "execution_count": 35,
   "metadata": {},
   "outputs": [],
   "source": [
    "# Hyperparameters:\n",
    "\n",
    "epochs = 10\n",
    "batch_size = 100\n",
    "display_freq = 100\n",
    "learning_rate = 0.001\n",
    "\n",
    "#Hidden Layer 1 units\n",
    "h1 = 200"
   ]
  },
  {
   "cell_type": "markdown",
   "metadata": {},
   "source": [
    "#### 3. Helper Functions to create network\n",
    "\n",
    "##### 3.1 Creating new variables\n",
    "\n",
    "As explained (and also illustrated in Fig. 1), we need to define two variables $\\mathbf{W}$ and $\\mathbf{b}$ to construt our linear model. These are generally called model parameters and as explained in our Tensor Types tutorial, we use Tensorflow Variables of proper size and initialization to define them.The following functions are written to be later used for generating the weight and bias variables of the desired shape:"
   ]
  },
  {
   "cell_type": "code",
   "execution_count": 36,
   "metadata": {},
   "outputs": [],
   "source": [
    "def weight_variable(name, shape):\n",
    "    \"\"\"\n",
    "    Create a weight variable with appropriate initialization\n",
    "    :param name: weight name\n",
    "    :param shape: weight shape\n",
    "    :return: initialized weight variable\n",
    "    \"\"\"    \n",
    "    initer = tf.truncated_normal_initializer(stddev = 0.01)\n",
    "    return tf.get_variable('W_' + name, \n",
    "                          dtype = tf.float32,\n",
    "                          shape = shape,\n",
    "                          initializer = initer)\n",
    "\n",
    "def bias_variable(name, shape):\n",
    "    \"\"\"\n",
    "    Create a bias variable with appropriate initialization\n",
    "    :param name: bias variable name\n",
    "    :param shape: bias variable shape\n",
    "    :return: initialized bias variable\n",
    "    \"\"\"\n",
    "    initial = tf.constant(0., shape=shape, dtype=tf.float32)\n",
    "    return tf.get_variable('b_' + name,\n",
    "                           dtype=tf.float32,\n",
    "                           initializer=initial)"
   ]
  },
  {
   "cell_type": "markdown",
   "metadata": {},
   "source": [
    "##### 3.2 Creating a Fully Connected Layer\n",
    "\n",
    "Neural network consists of stacks of fully-connected (dense) layers. Having the weight ($\\mathbf{W}$) and bias ($\\mathbf{b}$) variables, a fully-connected layer is defined as $activation(\\mathbf{W}\\times \\mathbf{x} + \\mathbf{b})$. We define fc_layer function as follows:\n"
   ]
  },
  {
   "cell_type": "code",
   "execution_count": 37,
   "metadata": {},
   "outputs": [],
   "source": [
    "def fc_layer(x, num_units, name, use_relu = True):\n",
    "    \"\"\"\n",
    "    Create a fully-connected layer\n",
    "    :param x: input from previous layer\n",
    "    :param num_units: number of hidden units in the fully-connected layer\n",
    "    :param name: layer name\n",
    "    :param use_relu: boolean to add ReLU non-linearity (or not)\n",
    "    :return: The output array\n",
    "    \"\"\"\n",
    "    in_dim = x.shape[1]\n",
    "    W = weight_variable(name, shape=[in_dim, num_units])\n",
    "    b = bias_variable(name, [num_units])\n",
    "    layer = tf.matmul(x,W)\n",
    "    layer += b\n",
    "    if use_relu:\n",
    "        layer = tf.nn.relu(layer)\n",
    "    return layer"
   ]
  },
  {
   "cell_type": "markdown",
   "metadata": {},
   "source": [
    "#### 4. Create Network Graph\n",
    "\n",
    "##### 4.1 Placeholders for input and corresponding labels\n",
    "\n",
    "Define proper tensors to feed in the input values to the model. Placeholder x is defined for the images; its data-type is set to float32 and the shape is set to [None, img_size_flat], where None means that the tensor may hold an arbitrary number of images with each image being a vector of length img_size_flat.\n",
    "\n",
    "Next we have y which is the placeholder variable for the true labels associated with the images that were input in the placeholder variable x. The shape of this placeholder variable is [None, num_classes] which means it may hold an arbitrary number of labels and each label is a vector of length num_classes which is $10$ in this case."
   ]
  },
  {
   "cell_type": "code",
   "execution_count": 38,
   "metadata": {},
   "outputs": [],
   "source": [
    "# Create the graph for the linear model\n",
    "# Placeholders for inputs (x) and outputs(y)\n",
    "x = tf.placeholder(tf.float32, shape=[None, img_size_flat], name='X')\n",
    "y = tf.placeholder(tf.float32, shape=[None, n_classes], name='Y')"
   ]
  },
  {
   "cell_type": "markdown",
   "metadata": {},
   "source": [
    "##### 4.2 Create Network Layers\n",
    "\n",
    "Since we have a neural network, we can stack multiple fully-connected layers using fc_layer method. Note that we will not use any activation function (use_relu=False) in the last layer. The reason is that we can use tf.nn.softmax_cross_entropy_with_logits to calculate the loss."
   ]
  },
  {
   "cell_type": "code",
   "execution_count": 39,
   "metadata": {},
   "outputs": [],
   "source": [
    "fc1 = fc_layer(x, h1, 'FC1', use_relu=True)\n",
    "output_logits = fc_layer(fc1, n_classes, 'OUT', use_relu=False)"
   ]
  },
  {
   "cell_type": "markdown",
   "metadata": {},
   "source": [
    "##### 4.3 Loss Function, Optimizer, Accuracy and Predicted Class\n",
    "\n",
    "After creating the network, we have to calculate the loss and optimize it. Also, to evaluate our model, we have to calculate the correct_prediction and accuracy. We will also define cls_prediction to visualize our results."
   ]
  },
  {
   "cell_type": "code",
   "execution_count": 41,
   "metadata": {},
   "outputs": [],
   "source": [
    "loss = tf.reduce_mean(tf.nn.softmax_cross_entropy_with_logits(labels = y, logits = output_logits), name = 'loss')\n",
    "optimizer = tf.train.AdamOptimizer(learning_rate = learning_rate, name = 'Adam-op').minimize(loss)\n",
    "correct_prediction = tf.equal(tf.argmax(output_logits,1), tf.argmax(y,1), name = 'correct_pred')\n",
    "\n",
    "accuracy = tf.reduce_mean(tf.cast(correct_prediction, tf.float32),name='accuracy')\n",
    "cls_prediction = tf.argmax(output_logits, axis=1,name='predictions')"
   ]
  },
  {
   "cell_type": "markdown",
   "metadata": {},
   "source": [
    "##### 4.4 Initialize all Variables\n",
    "\n",
    "Invoke a variable initializer that initializes all variables\n"
   ]
  },
  {
   "cell_type": "code",
   "execution_count": 42,
   "metadata": {},
   "outputs": [],
   "source": [
    "init = tf.global_variables_initializer()"
   ]
  },
  {
   "cell_type": "markdown",
   "metadata": {},
   "source": [
    "#### 5. Train\n",
    "\n",
    "After creating the graph, it is time to train our model. To train the model, As explained in the Graph_and_Session tutorial, we have to create a session and run the graph in our session."
   ]
  },
  {
   "cell_type": "code",
   "execution_count": 50,
   "metadata": {},
   "outputs": [
    {
     "name": "stdout",
     "output_type": "stream",
     "text": [
      "Training epoch:  1\n",
      "iteration   0:\t Loss=2.28,\tTraining Accuracy=57.0%.\n",
      "iteration 100:\t Loss=0.49,\tTraining Accuracy=81.0%.\n",
      "iteration 200:\t Loss=0.42,\tTraining Accuracy=88.0%.\n",
      "iteration 300:\t Loss=0.33,\tTraining Accuracy=88.0%.\n",
      "iteration 400:\t Loss=0.30,\tTraining Accuracy=89.0%.\n",
      "iteration 500:\t Loss=0.19,\tTraining Accuracy=94.0%.\n",
      "---------------------------------------------------------\n",
      "Epoch: 1, validation loss: 0.25, validation accuracy: 92.1%\n",
      "---------------------------------------------------------\n",
      "Training epoch:  2\n",
      "iteration   0:\t Loss=0.16,\tTraining Accuracy=94.0%.\n",
      "iteration 100:\t Loss=0.34,\tTraining Accuracy=87.0%.\n",
      "iteration 200:\t Loss=0.12,\tTraining Accuracy=97.0%.\n",
      "iteration 300:\t Loss=0.22,\tTraining Accuracy=94.0%.\n",
      "iteration 400:\t Loss=0.15,\tTraining Accuracy=95.0%.\n",
      "iteration 500:\t Loss=0.16,\tTraining Accuracy=97.0%.\n",
      "---------------------------------------------------------\n",
      "Epoch: 2, validation loss: 0.17, validation accuracy: 94.7%\n",
      "---------------------------------------------------------\n",
      "Training epoch:  3\n",
      "iteration   0:\t Loss=0.38,\tTraining Accuracy=93.0%.\n",
      "iteration 100:\t Loss=0.08,\tTraining Accuracy=97.0%.\n",
      "iteration 200:\t Loss=0.16,\tTraining Accuracy=97.0%.\n",
      "iteration 300:\t Loss=0.04,\tTraining Accuracy=100.0%.\n",
      "iteration 400:\t Loss=0.16,\tTraining Accuracy=95.0%.\n",
      "iteration 500:\t Loss=0.14,\tTraining Accuracy=95.0%.\n",
      "---------------------------------------------------------\n",
      "Epoch: 3, validation loss: 0.13, validation accuracy: 95.9%\n",
      "---------------------------------------------------------\n",
      "Training epoch:  4\n",
      "iteration   0:\t Loss=0.10,\tTraining Accuracy=98.0%.\n",
      "iteration 100:\t Loss=0.13,\tTraining Accuracy=96.0%.\n",
      "iteration 200:\t Loss=0.04,\tTraining Accuracy=100.0%.\n",
      "iteration 300:\t Loss=0.10,\tTraining Accuracy=97.0%.\n",
      "iteration 400:\t Loss=0.05,\tTraining Accuracy=99.0%.\n",
      "iteration 500:\t Loss=0.07,\tTraining Accuracy=99.0%.\n",
      "---------------------------------------------------------\n",
      "Epoch: 4, validation loss: 0.11, validation accuracy: 96.8%\n",
      "---------------------------------------------------------\n",
      "Training epoch:  5\n",
      "iteration   0:\t Loss=0.08,\tTraining Accuracy=98.0%.\n",
      "iteration 100:\t Loss=0.06,\tTraining Accuracy=99.0%.\n",
      "iteration 200:\t Loss=0.04,\tTraining Accuracy=100.0%.\n",
      "iteration 300:\t Loss=0.08,\tTraining Accuracy=97.0%.\n",
      "iteration 400:\t Loss=0.11,\tTraining Accuracy=97.0%.\n",
      "iteration 500:\t Loss=0.12,\tTraining Accuracy=96.0%.\n",
      "---------------------------------------------------------\n",
      "Epoch: 5, validation loss: 0.10, validation accuracy: 97.0%\n",
      "---------------------------------------------------------\n",
      "Training epoch:  6\n",
      "iteration   0:\t Loss=0.05,\tTraining Accuracy=99.0%.\n",
      "iteration 100:\t Loss=0.05,\tTraining Accuracy=98.0%.\n",
      "iteration 200:\t Loss=0.04,\tTraining Accuracy=99.0%.\n",
      "iteration 300:\t Loss=0.06,\tTraining Accuracy=99.0%.\n",
      "iteration 400:\t Loss=0.09,\tTraining Accuracy=97.0%.\n",
      "iteration 500:\t Loss=0.05,\tTraining Accuracy=99.0%.\n",
      "---------------------------------------------------------\n",
      "Epoch: 6, validation loss: 0.09, validation accuracy: 97.5%\n",
      "---------------------------------------------------------\n",
      "Training epoch:  7\n",
      "iteration   0:\t Loss=0.04,\tTraining Accuracy=100.0%.\n",
      "iteration 100:\t Loss=0.02,\tTraining Accuracy=100.0%.\n",
      "iteration 200:\t Loss=0.05,\tTraining Accuracy=99.0%.\n",
      "iteration 300:\t Loss=0.04,\tTraining Accuracy=99.0%.\n",
      "iteration 400:\t Loss=0.05,\tTraining Accuracy=98.0%.\n",
      "iteration 500:\t Loss=0.05,\tTraining Accuracy=98.0%.\n",
      "---------------------------------------------------------\n",
      "Epoch: 7, validation loss: 0.10, validation accuracy: 97.1%\n",
      "---------------------------------------------------------\n",
      "Training epoch:  8\n",
      "iteration   0:\t Loss=0.02,\tTraining Accuracy=100.0%.\n",
      "iteration 100:\t Loss=0.07,\tTraining Accuracy=97.0%.\n",
      "iteration 200:\t Loss=0.02,\tTraining Accuracy=100.0%.\n",
      "iteration 300:\t Loss=0.04,\tTraining Accuracy=98.0%.\n",
      "iteration 400:\t Loss=0.06,\tTraining Accuracy=98.0%.\n",
      "iteration 500:\t Loss=0.07,\tTraining Accuracy=99.0%.\n",
      "---------------------------------------------------------\n",
      "Epoch: 8, validation loss: 0.10, validation accuracy: 97.4%\n",
      "---------------------------------------------------------\n",
      "Training epoch:  9\n",
      "iteration   0:\t Loss=0.02,\tTraining Accuracy=100.0%.\n",
      "iteration 100:\t Loss=0.03,\tTraining Accuracy=99.0%.\n",
      "iteration 200:\t Loss=0.02,\tTraining Accuracy=100.0%.\n",
      "iteration 300:\t Loss=0.01,\tTraining Accuracy=100.0%.\n",
      "iteration 400:\t Loss=0.02,\tTraining Accuracy=100.0%.\n",
      "iteration 500:\t Loss=0.03,\tTraining Accuracy=99.0%.\n",
      "---------------------------------------------------------\n",
      "Epoch: 9, validation loss: 0.10, validation accuracy: 97.8%\n",
      "---------------------------------------------------------\n",
      "Training epoch:  10\n",
      "iteration   0:\t Loss=0.02,\tTraining Accuracy=100.0%.\n",
      "iteration 100:\t Loss=0.02,\tTraining Accuracy=100.0%.\n",
      "iteration 200:\t Loss=0.03,\tTraining Accuracy=99.0%.\n",
      "iteration 300:\t Loss=0.03,\tTraining Accuracy=99.0%.\n",
      "iteration 400:\t Loss=0.02,\tTraining Accuracy=99.0%.\n",
      "iteration 500:\t Loss=0.06,\tTraining Accuracy=98.0%.\n",
      "---------------------------------------------------------\n",
      "Epoch: 10, validation loss: 0.09, validation accuracy: 97.3%\n",
      "---------------------------------------------------------\n"
     ]
    }
   ],
   "source": [
    "# Creating a session \n",
    "sess = tf.InteractiveSession()\n",
    "\n",
    "#Initialize all variables\n",
    "sess.run(init)\n",
    "\n",
    "#Number of iterations in an epoch\n",
    "num_tr_iter = int(len(y_train)/ batch_size)\n",
    "\n",
    "for epoch in range(epochs):\n",
    "    print('Training epoch: ',(epoch+1))\n",
    "    x_train, y_train = randomize(x_train, y_train)\n",
    "    for iteration in range(num_tr_iter):\n",
    "        start = iteration*batch_size\n",
    "        end = (iteration+1)*batch_size\n",
    "        x_batch, y_batch = get_next_batch(x_train, y_train, start, end)\n",
    "        \n",
    "        \n",
    "        feed_dict_batch = {x: x_batch, y: y_batch}\n",
    "        sess.run(optimizer, feed_dict = feed_dict_batch)\n",
    "        \n",
    "        if iteration % display_freq == 0:\n",
    "            loss_batch, acc_batch = sess.run([loss, accuracy], feed_dict = feed_dict_batch)\n",
    "            print(\"iteration {0:3d}:\\t Loss={1:.2f},\\tTraining Accuracy={2:.01%}.\".format(iteration, loss_batch,acc_batch))\n",
    "        \n",
    "    \n",
    "    feed_dict_valid = {x:x_valid[:1000], y:y_valid[:1000]}\n",
    "    loss_valid, acc_valid = sess.run([loss,accuracy], feed_dict=feed_dict_valid)\n",
    "    print('---------------------------------------------------------')\n",
    "    print(\"Epoch: {0}, validation loss: {1:.2f}, validation accuracy: {2:.01%}\".\n",
    "          format(epoch + 1, loss_valid, acc_valid))\n",
    "    print('---------------------------------------------------------')\n",
    "        "
   ]
  },
  {
   "cell_type": "markdown",
   "metadata": {},
   "source": [
    "#### 6. Test\n",
    "\n",
    "###### 6.1 Accuracy\n",
    "One way that we can evaluate our model is reporting the accuracy on the test set.\n"
   ]
  },
  {
   "cell_type": "code",
   "execution_count": 51,
   "metadata": {},
   "outputs": [
    {
     "name": "stdout",
     "output_type": "stream",
     "text": [
      "Extracting MNIST_data/train-images-idx3-ubyte.gz\n",
      "Extracting MNIST_data/train-labels-idx1-ubyte.gz\n",
      "Extracting MNIST_data/t10k-images-idx3-ubyte.gz\n",
      "Extracting MNIST_data/t10k-labels-idx1-ubyte.gz\n",
      "---------------------------------------------------------\n",
      "Test loss: 0.06, test accuracy: 97.9%\n",
      "---------------------------------------------------------\n"
     ]
    }
   ],
   "source": [
    "x_test, y_test = load_data(mode = 'test')\n",
    "feed_dict_test = {x:x_test[:1000],y:y_test[:1000]}\n",
    "loss_test, acc_test = sess.run([loss,accuracy], feed_dict=feed_dict_test)\n",
    "print('---------------------------------------------------------')\n",
    "print(\"Test loss: {0:.2f}, test accuracy: {1:.01%}\".format(loss_test, acc_test))\n",
    "print('---------------------------------------------------------')"
   ]
  },
  {
   "cell_type": "markdown",
   "metadata": {},
   "source": [
    "##### 6.2 Plotting Results\n",
    "\n",
    "Another way to evaluate the model is to visualize the input and the model results and compare them with the true label of the input. This is advantages in numerous ways. For example, even if you get a decent accuracy, when you plot the results, you might see all the samples have been classified in one class. Another example is when you plot, you can have a rough idea on which examples your model failed. Let's define the helper functions to plot some correct and missclassified examples\n",
    "\n",
    "###### 6.2.1 Plotting Results"
   ]
  },
  {
   "cell_type": "code",
   "execution_count": 53,
   "metadata": {},
   "outputs": [
    {
     "data": {
      "image/png": "[encoded data removed]",
      "text/plain": [
       "<Figure size 648x648 with 9 Axes>"
      ]
     },
     "metadata": {
      "needs_background": "light"
     },
     "output_type": "display_data"
    },
    {
     "data": {
      "image/png": "[encoded data removed]",
      "text/plain": [
       "<Figure size 648x648 with 9 Axes>"
      ]
     },
     "metadata": {
      "needs_background": "light"
     },
     "output_type": "display_data"
    }
   ],
   "source": [
    "def plot_images(images, cls_true, cls_pred = None, title=None):\n",
    "    \"\"\"\n",
    "    Create figure with 3x3 sub-plots.\n",
    "    param images: array of images to be plotted, (9, img_h*img_w)\n",
    "    param cls_true: corresponding true labels (9,)\n",
    "    param cls_pred: corresponding true labels (9,)\n",
    "    \"\"\"\n",
    "    \n",
    "    fig, axes = plt.subplots(3,3, figsize =(9,9))\n",
    "    fig.subplots_adjust(hspace = 0.3, wspace=0.3)\n",
    "    for i, ax in enumerate(axes.flat):\n",
    "        ax.imshow(images[i].reshape(28,28),cmap='binary')\n",
    "        \n",
    "    if cls_pred is None:\n",
    "        ax_title = \"True: {0}\".format(cls_true[i])\n",
    "    else:\n",
    "        ax_title = \"True: {0},Pred: {1}\".format(cls_true[i],cls_pred[i])\n",
    "        \n",
    "    ax.set_title(ax_title)\n",
    "    \n",
    "    ax.set_xticks([])\n",
    "    ax.set_yticks([])\n",
    "    \n",
    "    if title:\n",
    "        plt.suptitle(title, size=20)\n",
    "    plt.show(block=False)\n",
    "    \n",
    "    \n",
    "    \n",
    "def plot_example_errors(images, cls_true, cls_pred, title=None):\n",
    "    \"\"\"\n",
    "    Function for plotting examples of images that have been mis-classified\n",
    "    :param images: array of all images, (#imgs, img_h*img_w)\n",
    "    :param cls_true: corresponding true labels, (#imgs,)\n",
    "    :param cls_pred: corresponding predicted labels, (#imgs,)\n",
    "    \"\"\"\n",
    "    # Negate the boolean array.\n",
    "    incorrect = np.logical_not(np.equal(cls_pred, cls_true))\n",
    "\n",
    "    # Get the images from the test-set that have been\n",
    "    # incorrectly classified.\n",
    "    incorrect_images = images[incorrect]\n",
    "\n",
    "    # Get the true and predicted classes for those images.\n",
    "    cls_pred = cls_pred[incorrect]\n",
    "    cls_true = cls_true[incorrect]\n",
    "\n",
    "    # Plot the first 9 images.\n",
    "    plot_images(images=incorrect_images[0:9],\n",
    "                cls_true=cls_true[0:9],\n",
    "                cls_pred=cls_pred[0:9],\n",
    "                title=title)\n",
    "\n",
    "    \n",
    "# Plot some of the correct and misclassified examples\n",
    "cls_pred = sess.run(cls_prediction, feed_dict=feed_dict_test)\n",
    "cls_true = np.argmax(y_test[:1000], axis=1)\n",
    "plot_images(x_test, cls_true, cls_pred, title='Correct Examples')\n",
    "plot_example_errors(x_test[:1000], cls_true, cls_pred, title='Misclassified Examples')\n",
    "plt.show()"
   ]
  },
  {
   "cell_type": "code",
   "execution_count": null,
   "metadata": {},
   "outputs": [],
   "source": []
  }
 ],
 "metadata": {
  "kernelspec": {
   "display_name": "Python 3",
   "language": "python",
   "name": "python3"
  },
  "language_info": {
   "codemirror_mode": {
    "name": "ipython",
    "version": 3
   },
   "file_extension": ".py",
   "mimetype": "text/x-python",
   "name": "python",
   "nbconvert_exporter": "python",
   "pygments_lexer": "ipython3",
   "version": "3.6.7"
  }
 },
 "nbformat": 4,
 "nbformat_minor": 2
}
